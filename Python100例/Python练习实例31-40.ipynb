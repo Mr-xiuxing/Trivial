{
 "cells": [
  {
   "cell_type": "markdown",
   "metadata": {},
   "source": [
    "### Python练习实例31\n",
    "#### 题目\n",
    "    请输入星期几的第一个字母来判断是星期几，如果第一个字母一样，则继续输入第二个字母。\n",
    "#### 程序分析\n",
    "    用情况语句，如果第一个字母一样，则用情况语句判断或if语句来判断第二个字母。"
   ]
  },
  {
   "cell_type": "code",
   "execution_count": 1,
   "metadata": {},
   "outputs": [
    {
     "name": "stdout",
     "output_type": "stream",
     "text": [
      "Please input:S\n",
      "please input second letter\n",
      "Please input:a\n",
      "Saturday\n"
     ]
    }
   ],
   "source": [
    "letter = input(\"Please input:\")\n",
    "\n",
    "if letter == \"S\":\n",
    "    print(\"please input second letter\")\n",
    "    letter = input(\"Please input:\")\n",
    "    \n",
    "    if letter == \"a\":\n",
    "        print(\"Saturday\")\n",
    "    elif letter == \"u\":\n",
    "        print(\"Sunday\")\n",
    "    else:\n",
    "        print(\"data error\")\n",
    "        \n",
    "elif letter == \"F\":\n",
    "    print(\"Friday\")\n",
    "    \n",
    "elif letter == \"M\":\n",
    "    print(\"Monday\")\n",
    "    \n",
    "elif letter == \"T\":\n",
    "    print(\"please input second letter\")\n",
    "    letter = input(\"Please input:\")\n",
    "    \n",
    "    if letter == \"u\":\n",
    "        print(\"Tuesday\")\n",
    "    elif letter == \"h\":\n",
    "        print(\"Thursday\")\n",
    "    else:\n",
    "        print(\"data error\")\n",
    "\n",
    "elif letter == \"W\":\n",
    "    print(\"Wednesday\")\n",
    "\n",
    "else:\n",
    "    print(\"data error\")"
   ]
  },
  {
   "cell_type": "markdown",
   "metadata": {},
   "source": [
    "### Python练习实例32\n",
    "#### 题目\n",
    "    按相反的顺序输出列表的值\n",
    "#### 程序分析\n",
    "    无"
   ]
  },
  {
   "cell_type": "code",
   "execution_count": 2,
   "metadata": {},
   "outputs": [
    {
     "name": "stdout",
     "output_type": "stream",
     "text": [
      "three\n",
      "two\n",
      "one\n"
     ]
    }
   ],
   "source": [
    "a = ['one', 'two', 'three']\n",
    "\n",
    "for i in a[::-1]:\n",
    "    print(i)"
   ]
  },
  {
   "cell_type": "markdown",
   "metadata": {},
   "source": [
    "### Python练习实例33\n",
    "#### 题目\n",
    "    按逗号分隔列表。\n",
    "#### 程序分析\n",
    "    无。"
   ]
  },
  {
   "cell_type": "code",
   "execution_count": 3,
   "metadata": {},
   "outputs": [
    {
     "name": "stdout",
     "output_type": "stream",
     "text": [
      "1,2,3,4,5\n"
     ]
    }
   ],
   "source": [
    "L = [1, 2, 3, 4, 5]\n",
    "s1 = ','.join(str(n) for n in L)\n",
    "print(s1)"
   ]
  },
  {
   "cell_type": "markdown",
   "metadata": {},
   "source": [
    "### Python练习实例34\n",
    "#### 题目\n",
    "    练习函数调用\n",
    "#### 程序分析\n",
    "    无"
   ]
  },
  {
   "cell_type": "code",
   "execution_count": 4,
   "metadata": {},
   "outputs": [
    {
     "name": "stdout",
     "output_type": "stream",
     "text": [
      "hello world\n",
      "hello world\n",
      "hello world\n"
     ]
    }
   ],
   "source": [
    "def hello_world():\n",
    "    print(\"hello world\")\n",
    "\n",
    "def three_hellos():\n",
    "    for i in range(3):\n",
    "        hello_world()\n",
    "\n",
    "if __name__ == \"__main__\":\n",
    "    three_hellos()"
   ]
  },
  {
   "cell_type": "markdown",
   "metadata": {},
   "source": [
    "### Python练习实例35\n",
    "#### 题目\n",
    "    文本颜色设置。\n",
    "#### 程序分析\n",
    "    无"
   ]
  },
  {
   "cell_type": "code",
   "execution_count": 5,
   "metadata": {},
   "outputs": [
    {
     "name": "stdout",
     "output_type": "stream",
     "text": [
      "\u001b[93m这是一个小小的警告！！！\u001b[0m\n"
     ]
    }
   ],
   "source": [
    "class bcolors:\n",
    "    HEADER = '\\033[95m'\n",
    "    OKBLUE = '\\033[94m'\n",
    "    OKGREEN = '\\033[92m'\n",
    "    WARNING = '\\033[93m'\n",
    "    FALL = '\\033[91m'\n",
    "    ENDC = '\\033[0m'\n",
    "    BOLD = '\\033[1m'\n",
    "    UNDERLING = '\\033[4m'\n",
    "\n",
    "print(bcolors.WARNING + \"这是一个小小的警告！！！\" + bcolors.ENDC)"
   ]
  },
  {
   "cell_type": "markdown",
   "metadata": {},
   "source": [
    "### Python练习实例36\n",
    "#### 题目\n",
    "    求100以内的素数。\n",
    "#### 程序分析\n",
    "    无"
   ]
  },
  {
   "cell_type": "code",
   "execution_count": 6,
   "metadata": {},
   "outputs": [
    {
     "name": "stdout",
     "output_type": "stream",
     "text": [
      "one 2 4 6 10 12 16 18 22 28 30 36 40 42 46 52 58 60 66 70 72 78 82 88 96\n"
     ]
    }
   ],
   "source": [
    "# 方法一\n",
    "\n",
    "l = []\n",
    "for num in range(1,101):\n",
    "    # 素数大于 1\n",
    "    if num > 1:\n",
    "        for i in range(2,num):\n",
    "            if (num % i) == 0:\n",
    "                break\n",
    "        else:\n",
    "            l.append(i)\n",
    "# print(l)\n",
    "print(\" \".join(map(str, l)))"
   ]
  },
  {
   "cell_type": "code",
   "execution_count": 7,
   "metadata": {},
   "outputs": [
    {
     "name": "stdout",
     "output_type": "stream",
     "text": [
      "2 3 5 7 11 13 17 19 23 29 31 37 41 43 47 53 59 61 67 71 73 79 83 89 97\n"
     ]
    }
   ],
   "source": [
    "# 方法二\n",
    "\n",
    "print(\" \".join(\"%s\" % x for x in range(2,100) if not [y for y in range(2,x) if x % y ==0]))\n",
    "# print([x for x in range(2,100) if not [y for y in range(2,x) if x % y ==0]])"
   ]
  },
  {
   "cell_type": "markdown",
   "metadata": {},
   "source": [
    "### Python练习实例37\n",
    "#### 题目\n",
    "    对10个数进行排序\n",
    "#### 程序分析\n",
    "    可以利用选择法，即从后9个比较过程中，选择一个最小的与第一个元素交换，下次类推，即用第二个元素与后8个元素进行比较，并进行交换。"
   ]
  },
  {
   "cell_type": "code",
   "execution_count": 8,
   "metadata": {
    "scrolled": false
   },
   "outputs": [
    {
     "name": "stdout",
     "output_type": "stream",
     "text": [
      "Please input ten num:\n",
      "\n",
      "number 1:\n",
      "88\n",
      "number 2:\n",
      "99\n",
      "number 3:\n",
      "33\n",
      "number 4:\n",
      "66\n",
      "number 5:\n",
      "21\n",
      "number 6:\n",
      "108\n",
      "number 7:\n",
      "59\n",
      "number 8:\n",
      "13\n",
      "number 9:\n",
      "56\n",
      "number 10:\n",
      "25\n",
      "\n",
      "88\n",
      "99\n",
      "33\n",
      "66\n",
      "21\n",
      "108\n",
      "59\n",
      "13\n",
      "56\n",
      "25\n",
      "\n",
      "after sorted\n",
      "13\n",
      "21\n",
      "25\n",
      "33\n",
      "56\n",
      "59\n",
      "66\n",
      "88\n",
      "99\n",
      "108\n"
     ]
    }
   ],
   "source": [
    "N = 10\n",
    "print(\"Please input ten num:\\n\")\n",
    "l = []\n",
    "for i in range(N):\n",
    "    l.append(int(input(\"number {}:\\n\".format(i + 1))))\n",
    "print()\n",
    "for i in range(N):\n",
    "    print(l[i])\n",
    "print()\n",
    "\n",
    "for i in range(N - 1):\n",
    "    min = i\n",
    "    for j in range(i + 1, N):\n",
    "        if l[min] > l[j]:\n",
    "            min = j\n",
    "    l[i], l[min] = l[min], l[i]\n",
    "print('after sorted')\n",
    "for i in range(N):\n",
    "    print(l[i])"
   ]
  },
  {
   "cell_type": "markdown",
   "metadata": {},
   "source": [
    "### Python练习实例38\n",
    "#### 题目\n",
    "    求一个3*3矩阵对角线元素之和\n",
    "#### 程序分析\n",
    "    利用双重for循环控制二维数组，再进行累加后输出"
   ]
  },
  {
   "cell_type": "code",
   "execution_count": 9,
   "metadata": {},
   "outputs": [
    {
     "name": "stdout",
     "output_type": "stream",
     "text": [
      "input num:\n",
      "1\n",
      "input num:\n",
      "2\n",
      "input num:\n",
      "3\n",
      "input num:\n",
      "4\n",
      "input num:\n",
      "5\n",
      "input num:\n",
      "6\n",
      "input num:\n",
      "7\n",
      "input num:\n",
      "8\n",
      "input num:\n",
      "9\n",
      "15\n"
     ]
    }
   ],
   "source": [
    "a = []\n",
    "sum = 0\n",
    "for i in range(3):\n",
    "    a.append([])\n",
    "    for j in range(3):\n",
    "        a[i].append(int(input(\"input num:\\n\")))\n",
    "\n",
    "for i in range(3):\n",
    "    sum += a[i][i]\n",
    "print(sum)"
   ]
  },
  {
   "cell_type": "markdown",
   "metadata": {},
   "source": [
    "### Python练习实例39\n",
    "#### 题目\n",
    "    有一个已经排好序的数组。现输一个数，要求按原来的规律将它插入数组中。\n",
    "#### 程序分析\n",
    "    首先判断此数是否大于最后一个数，然后再考虑插入中间数的情况，插入后此元素之后的数，依次后移一个位置。"
   ]
  },
  {
   "cell_type": "code",
   "execution_count": 10,
   "metadata": {},
   "outputs": [
    {
     "name": "stdout",
     "output_type": "stream",
     "text": [
      "insert a new number:\n",
      "20\n",
      "[1, 4, 6, 9, 13, 16, 19, 20, 28, 40, 100]\n"
     ]
    }
   ],
   "source": [
    "# 方法一  0 作为加入数字的占位符\n",
    "a = [1, 4, 6, 9, 13, 16, 19, 28, 40, 100, 0]\n",
    "number = int(input(\"insert a new number:\\n\"))\n",
    "end = a[9]\n",
    "if number > end:\n",
    "    a[10] = number\n",
    "else:\n",
    "    for i in range(10):\n",
    "        if a[i] > number:\n",
    "            temp1 = a[i]\n",
    "            a[i] = number\n",
    "            for j in range(i + 1, 11):\n",
    "                temp2 = a[j]\n",
    "                a[j] = temp1\n",
    "                temp1 = temp2\n",
    "            break\n",
    "print(a) "
   ]
  },
  {
   "cell_type": "code",
   "execution_count": 11,
   "metadata": {},
   "outputs": [
    {
     "name": "stdout",
     "output_type": "stream",
     "text": [
      "insert a new number:\n",
      "18\n",
      "[1, 3, 5, 7, 9, 11, 13, 15, 17, 18, 19, 21, 23, 25, 27, 29, 31]\n"
     ]
    }
   ],
   "source": [
    "#方法二\n",
    "a = [1, 3, 5, 7, 9, 11, 13, 15, 17, 19, 21, 23, 25, 27, 29, 31]\n",
    "number = int(input(\"insert a new number:\\n\"))\n",
    "#对半查找,提高效率\n",
    "f0, f1 = 0, len(a) - 1\n",
    "while f1 - f0 > 1:\n",
    "    mid = f0 + int((f1 - f0) / 2)\n",
    "    if a[mid] > number:\n",
    "        f1 = mid\n",
    "    else:\n",
    "        f0 = mid\n",
    "a.insert(f0 + 1, number)\n",
    "print(a)"
   ]
  },
  {
   "cell_type": "code",
   "execution_count": 12,
   "metadata": {},
   "outputs": [
    {
     "name": "stdout",
     "output_type": "stream",
     "text": [
      "insert a new number:\n",
      "14\n",
      "[1, 3, 5, 7, 9, 11, 13, 14, 15, 17, 19, 21, 23, 25, 27, 29, 31]\n"
     ]
    }
   ],
   "source": [
    "# 方法三 利用sort\n",
    "a = [1, 3, 5, 7, 9, 11, 13, 15, 17, 19, 21, 23, 25, 27, 29, 31]\n",
    "number = int(input(\"insert a new number:\\n\"))\n",
    "a.append(number)\n",
    "a.sort()\n",
    "print(a)"
   ]
  },
  {
   "cell_type": "markdown",
   "metadata": {},
   "source": [
    "### Python练习实例40\n",
    "#### 题目\n",
    "    将一个数组逆序输出。\n",
    "#### 程序分析\n",
    "    利用第一个与最后一个交换。"
   ]
  },
  {
   "cell_type": "code",
   "execution_count": 13,
   "metadata": {},
   "outputs": [
    {
     "name": "stdout",
     "output_type": "stream",
     "text": [
      "[1, 4, 5, 6, 9]\n"
     ]
    }
   ],
   "source": [
    "# 方法一  \n",
    "a = [9, 6, 5, 4, 1]\n",
    "N = len(a)\n",
    "for i in range(N // 2):\n",
    "    a[i], a[N - i - 1] = a[N - i - 1], a[i]\n",
    "print(a)"
   ]
  },
  {
   "cell_type": "code",
   "execution_count": 14,
   "metadata": {},
   "outputs": [
    {
     "name": "stdout",
     "output_type": "stream",
     "text": [
      "[1, 4, 5, 6, 9]\n"
     ]
    }
   ],
   "source": [
    "# 方法二  insert\n",
    "a = [9, 6, 5, 4, 1]\n",
    "b = []\n",
    "for i in a:\n",
    "    b.insert(0, i)\n",
    "print(b)"
   ]
  },
  {
   "cell_type": "code",
   "execution_count": 15,
   "metadata": {},
   "outputs": [
    {
     "name": "stdout",
     "output_type": "stream",
     "text": [
      "14569"
     ]
    }
   ],
   "source": [
    "# 方法三  pop\n",
    "a = [9, 6, 5, 4, 1]\n",
    "for i in range(len(a)):\n",
    "    print(a.pop(),end='')"
   ]
  },
  {
   "cell_type": "code",
   "execution_count": 16,
   "metadata": {},
   "outputs": [
    {
     "name": "stdout",
     "output_type": "stream",
     "text": [
      "[1, 4, 5, 6, 9]\n"
     ]
    }
   ],
   "source": [
    "# 方法四  reverse\n",
    "a = [9,6,5,4,1]\n",
    "a.reverse()\n",
    "print(a)"
   ]
  },
  {
   "cell_type": "code",
   "execution_count": 17,
   "metadata": {},
   "outputs": [
    {
     "name": "stdout",
     "output_type": "stream",
     "text": [
      "[1, 4, 5, 6, 9]\n"
     ]
    }
   ],
   "source": [
    "# 方法五\n",
    "a = [9,6,5,4,1]\n",
    "print(a[::-1])"
   ]
  }
 ],
 "metadata": {
  "kernelspec": {
   "display_name": "Python 3",
   "language": "python",
   "name": "python3"
  },
  "language_info": {
   "codemirror_mode": {
    "name": "ipython",
    "version": 3
   },
   "file_extension": ".py",
   "mimetype": "text/x-python",
   "name": "python",
   "nbconvert_exporter": "python",
   "pygments_lexer": "ipython3",
   "version": "3.6.5"
  }
 },
 "nbformat": 4,
 "nbformat_minor": 2
}
