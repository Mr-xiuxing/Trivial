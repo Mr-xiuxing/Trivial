{
 "cells": [
  {
   "cell_type": "markdown",
   "metadata": {},
   "source": [
    "### Python练习实例61\n",
    "#### 题目：\n",
    "    打印出杨辉三角\n",
    "#### 程序分析：\n",
    "    无"
   ]
  },
  {
   "cell_type": "code",
   "execution_count": 1,
   "metadata": {},
   "outputs": [
    {
     "name": "stdout",
     "output_type": "stream",
     "text": [
      "1 \n",
      "1 1 \n",
      "1 2 1 \n",
      "1 3 3 1 \n",
      "1 4 6 4 1 \n",
      "1 5 10 10 5 1 \n",
      "1 6 15 20 15 6 1 \n",
      "1 7 21 35 35 21 7 1 \n",
      "1 8 28 56 70 56 28 8 1 \n",
      "1 9 36 84 126 126 84 36 9 1 \n"
     ]
    }
   ],
   "source": [
    "a = []\n",
    "for i in range(10):\n",
    "    a.append([])\n",
    "    for j in range(10):\n",
    "        a[i].append(0)\n",
    "for i in range(10):\n",
    "    a[i][0] = 1\n",
    "    a[i][i] = 1\n",
    "for i in range(2,10):\n",
    "    for j in range(1,i):\n",
    "        a[i][j] = a[i - 1][j-1] + a[i - 1][j]\n",
    "from sys import stdout\n",
    "for i in range(10):\n",
    "    for j in range(i + 1):\n",
    "        stdout.write(str(a[i][j]))\n",
    "        stdout.write(' ')\n",
    "    print()"
   ]
  },
  {
   "cell_type": "markdown",
   "metadata": {},
   "source": [
    "### Python练习实例62\n",
    "#### 题目：\n",
    "    查找字符串\n",
    "#### 程序分析：\n",
    "    无"
   ]
  },
  {
   "cell_type": "code",
   "execution_count": 2,
   "metadata": {},
   "outputs": [
    {
     "name": "stdout",
     "output_type": "stream",
     "text": [
      "5\n"
     ]
    }
   ],
   "source": [
    "str1 = 'fdafdabcffad'\n",
    "str2 = 'abc'\n",
    "print(str1.find(str2))"
   ]
  },
  {
   "cell_type": "markdown",
   "metadata": {},
   "source": [
    "### Python练习实例63\n",
    "#### 题目：\n",
    "    画椭圆\n",
    "#### 程序分析：\n",
    "    无"
   ]
  },
  {
   "cell_type": "code",
   "execution_count": 3,
   "metadata": {},
   "outputs": [],
   "source": [
    "from tkinter import *\n",
    "x = 360\n",
    "y = 160\n",
    "top = y - 30\n",
    "bottom = y - 30\n",
    "\n",
    "canvas = Canvas(width = 400,height = 600,bg = 'white')\n",
    "for i in range(20):\n",
    "    canvas.create_oval(250 - top,250 - bottom,250 + top,250 + bottom)\n",
    "    top -= 5\n",
    "    bottom += 5\n",
    "canvas.pack()\n",
    "mainloop()"
   ]
  },
  {
   "cell_type": "markdown",
   "metadata": {},
   "source": [
    "### Python练习实例64\n",
    "#### 题目：\n",
    "    画图\n",
    "#### 程序分析：\n",
    "    无"
   ]
  },
  {
   "cell_type": "code",
   "execution_count": 4,
   "metadata": {},
   "outputs": [],
   "source": [
    "from tkinter import *\n",
    "canvas = Canvas(width = 400,height = 600,bg = 'white')\n",
    "left = 20\n",
    "right = 50\n",
    "top = 50\n",
    "num = 15\n",
    "for i in range(num):\n",
    "    canvas.create_oval(250 - right,250 - left,250 + right,250 + left)\n",
    "    canvas.create_oval(250 - 20,250 - top,250 + 20,250 + top)\n",
    "    canvas.create_rectangle(20 - 2 * i,20 - 2 * i,10 * (i + 2),10 * ( i + 2))\n",
    "    right += 5\n",
    "    left += 5\n",
    "    top += 10\n",
    "\n",
    "canvas.pack()\n",
    "mainloop()"
   ]
  },
  {
   "cell_type": "markdown",
   "metadata": {},
   "source": [
    "### Python练习实例65\n",
    "#### 题目：\n",
    "    一个最优美的图案\n",
    "#### 程序分析：\n",
    "    无"
   ]
  },
  {
   "cell_type": "code",
   "execution_count": 5,
   "metadata": {},
   "outputs": [],
   "source": [
    "import math\n",
    "from tkinter import *\n",
    "\n",
    "\n",
    "class PTS:\n",
    "    def __init__(self):\n",
    "        self.x = 0\n",
    "        self.y = 0\n",
    "points = []\n",
    "\n",
    "\n",
    "def LineToDemo():\n",
    "    screenx = 400\n",
    "    screeny = 400\n",
    "    canvas = Canvas(width = screenx,height = screeny,bg = 'white')\n",
    "\n",
    "    AspectRatio = 0.85\n",
    "    MAXPTS = 15\n",
    "    h = screeny\n",
    "    w = screenx\n",
    "    xcenter = w / 2\n",
    "    ycenter = h / 2\n",
    "    radius = (h - 30) / (AspectRatio * 2) - 20\n",
    "    step = 360 / MAXPTS\n",
    "    angle = 0.0\n",
    "    for i in range(MAXPTS):\n",
    "        rads = angle * math.pi / 180.0\n",
    "        p = PTS()\n",
    "        p.x = xcenter + int(math.cos(rads) * radius)\n",
    "        p.y = ycenter - int(math.sin(rads) * radius * AspectRatio)\n",
    "        angle += step\n",
    "        points.append(p)\n",
    "    canvas.create_oval(xcenter - radius,ycenter - radius,\n",
    "                       xcenter + radius,ycenter + radius)\n",
    "    for i in range(MAXPTS):\n",
    "        for j in range(i,MAXPTS):\n",
    "            canvas.create_line(points[i].x,points[i].y,points[j].x,points[j].y)\n",
    "\n",
    "    canvas.pack()\n",
    "    mainloop()\n",
    "    \n",
    "    \n",
    "if __name__ == '__main__':\n",
    "    LineToDemo()"
   ]
  },
  {
   "cell_type": "markdown",
   "metadata": {},
   "source": [
    "### Python练习实例66\n",
    "#### 题目：\n",
    "    输入三个数a, b, c,按大小顺序排序\n",
    "#### 程序分析：\n",
    "    无"
   ]
  },
  {
   "cell_type": "code",
   "execution_count": 6,
   "metadata": {},
   "outputs": [
    {
     "name": "stdout",
     "output_type": "stream",
     "text": [
      "n1 = :\n",
      "13\n",
      "n2 = :\n",
      "21\n",
      "n3 = :\n",
      "14\n",
      "13 14 21\n"
     ]
    }
   ],
   "source": [
    "# 方法一\n",
    "n1 = int(input('n1 = :\\n'))\n",
    "n2 = int(input('n2 = :\\n'))\n",
    "n3 = int(input('n3 = :\\n'))\n",
    "\n",
    "def swap(p1,p2):\n",
    "    return p2,p1\n",
    "\n",
    "if n1 > n2 : n1,n2 = swap(n1,n2)\n",
    "if n1 > n3 : n1,n3 = swap(n1,n3)\n",
    "if n2 > n3 : n2,n3 = swap(n2,n3)\n",
    "\n",
    "print(n1,n2,n3)"
   ]
  },
  {
   "cell_type": "code",
   "execution_count": 7,
   "metadata": {},
   "outputs": [
    {
     "name": "stdout",
     "output_type": "stream",
     "text": [
      "请输第1个数字：11\n",
      "请输第2个数字：21\n",
      "请输第3个数字：9\n",
      "[9, 11, 21]\n"
     ]
    }
   ],
   "source": [
    "# 方法二\n",
    "a=[]\n",
    "for i in range(3):\n",
    "    a.append(int(input(\"请输第%d个数字：\" % (i + 1))))\n",
    "a.sort()\n",
    "print(a)"
   ]
  },
  {
   "cell_type": "code",
   "execution_count": 8,
   "metadata": {},
   "outputs": [
    {
     "name": "stdout",
     "output_type": "stream",
     "text": [
      "请输第1个数字：5\n",
      "请输第2个数字：3\n",
      "请输第3个数字：9\n",
      "9\n",
      "5\n",
      "3\n"
     ]
    }
   ],
   "source": [
    "# 方法三\n",
    "l=[]\n",
    "for i in range(3):\n",
    "    x=int(input(\"请输第%d个数字：\" % (i + 1)))\n",
    "    l.append(x)\n",
    "for i in range(3):\n",
    "    print(max(l))\n",
    "    l.remove(max(l))  #利用 remove（）函数依次输出最大值"
   ]
  },
  {
   "cell_type": "code",
   "execution_count": 9,
   "metadata": {},
   "outputs": [
    {
     "name": "stdout",
     "output_type": "stream",
     "text": [
      "请输第1个数字：99\n",
      "请输第2个数字：58\n",
      "请输第3个数字：108\n",
      "[58, 99, 108]\n"
     ]
    }
   ],
   "source": [
    "# 方法4\n",
    "L = []\n",
    "for i in range(3):\n",
    "    L.append(int(input(\"请输第%d个数字：\" % (i + 1))))\n",
    "for i in range(3):\n",
    "    for j in range(i + 1, 3):\n",
    "        if L[i] > L[j]:\n",
    "            L[i],L[j] = L[j],L[i]\n",
    "print(L)"
   ]
  },
  {
   "cell_type": "markdown",
   "metadata": {},
   "source": [
    "### Python练习实例67\n",
    "#### 题目：\n",
    "    输入数组，最大的与第一个元素交换，最小的与最后一个元素交换，输出数组。\n",
    "#### 程序分析：\n",
    "    无"
   ]
  },
  {
   "cell_type": "code",
   "execution_count": 10,
   "metadata": {},
   "outputs": [
    {
     "name": "stdout",
     "output_type": "stream",
     "text": [
      "请输入第 1 个数：58\n",
      "请输入第 2 个数：66\n",
      "请输入第 3 个数：74\n",
      "请输入第 4 个数：29\n",
      "请输入第 5 个数：36\n",
      "请输入第 6 个数：77\n",
      "[77, 66, 74, 58, 36, 29]\n"
     ]
    }
   ],
   "source": [
    "# 方法一\n",
    "a=[]\n",
    "b=[]\n",
    "for i in range(6):\n",
    "    a.append(int(input(\"请输入第 %d 个数：\" %(i+1))))\n",
    "b.extend(a)\n",
    "a.sort()\n",
    "Max=b.index(a[len(a)-1])\n",
    "b[0],b[Max]=b[Max],b[0]\n",
    "Min=b.index(a[0])\n",
    "b[len(b)-1],b[Min]=b[Min],b[len(b)-1]\n",
    "print(b)"
   ]
  },
  {
   "cell_type": "code",
   "execution_count": 11,
   "metadata": {},
   "outputs": [
    {
     "name": "stdout",
     "output_type": "stream",
     "text": [
      "请输入第 1 个数：55\n",
      "请输入第 2 个数：66\n",
      "请输入第 3 个数：22\n",
      "请输入第 4 个数：44\n",
      "请输入第 5 个数：88\n",
      "[55, 66, 22, 44, 88]\n",
      "[88, 66, 55, 44, 22]\n"
     ]
    }
   ],
   "source": [
    "# 方法二\n",
    "import numpy as np\n",
    "a = []\n",
    "for i in range(5):\n",
    "    a.append(int(input(\"请输入第 %d 个数：\" %(i+1))))\n",
    "print(a)\n",
    "#得到最大值的索引\n",
    "max_index = np.argmax(a)\n",
    "#得到最小值的索引\n",
    "min_index = np.argmin(a)\n",
    "a[0], a[max_index] = a[max_index], a[0]\n",
    "a[-1], a[min_index] = a[min_index], a[-1]\n",
    "print(a)"
   ]
  },
  {
   "cell_type": "markdown",
   "metadata": {},
   "source": [
    "### Python练习实例68\n",
    "#### 题目：\n",
    "    有n个整数，使其前面各数顺序向后移m个位置，最后m个数变成最前面的m个数。\n",
    "#### 程序分析：\n",
    "    无"
   ]
  },
  {
   "cell_type": "code",
   "execution_count": 12,
   "metadata": {},
   "outputs": [
    {
     "name": "stdout",
     "output_type": "stream",
     "text": [
      "整数 n 为:\n",
      "5\n",
      "向后移 m 个位置为:\n",
      "2\n",
      "请输入第 1 个数：1\n",
      "请输入第 2 个数：2\n",
      "请输入第 3 个数：3\n",
      "请输入第 4 个数：4\n",
      "请输入第 5 个数：5\n",
      "原始列表: [1, 2, 3, 4, 5]\n",
      "移动之后: [4, 5, 1, 2, 3]\n"
     ]
    }
   ],
   "source": [
    "# 方法一\n",
    "n = int(input('整数 n 为:\\n'))\n",
    "m = int(input('向后移 m 个位置为:\\n'))\n",
    "\n",
    "def move(array,n,m):\n",
    "    array_end = array[n - 1]\n",
    "    for i in range(n - 1,-1,- 1):\n",
    "        array[i] = array[i - 1]\n",
    "    array[0] = array_end\n",
    "    m -= 1\n",
    "    if m > 0:move(array,n,m)\n",
    "\n",
    "number = []\n",
    "for i in range(n):\n",
    "    number.append(int(input(\"请输入第 %d 个数：\" %(i+1))))\n",
    "print('原始列表:',number)\n",
    "\n",
    "move(number,n,m)\n",
    "\n",
    "print('移动之后:',number)"
   ]
  },
  {
   "cell_type": "code",
   "execution_count": 13,
   "metadata": {},
   "outputs": [
    {
     "name": "stdout",
     "output_type": "stream",
     "text": [
      "整数 n 为:\n",
      "5\n",
      "向后移 m 个位置为:\n",
      "2\n",
      "请输入第 1 个数：1\n",
      "请输入第 2 个数：2\n",
      "请输入第 3 个数：3\n",
      "请输入第 4 个数：4\n",
      "请输入第 5 个数：5\n",
      "原始列表: [1, 2, 3, 4, 5]\n",
      "移动之后: [4, 5, 1, 2, 3]\n"
     ]
    }
   ],
   "source": [
    "# 方法二\n",
    "n = int(input('整数 n 为:\\n'))\n",
    "m = int(input('向后移 m 个位置为:\\n'))\n",
    "\n",
    "\n",
    "number = []\n",
    "for i in range(n):\n",
    "    number.append(int(input(\"请输入第 %d 个数：\" %(i+1))))\n",
    "print('原始列表:',number)\n",
    "\n",
    "def rot(a,move_num):\n",
    "    l = len(a)\n",
    "    move_num = l - move_num\n",
    "    return a[move_num:l] + a[0:move_num]\n",
    "\n",
    "b = rot(number, m)\n",
    "print('移动之后:',b)"
   ]
  },
  {
   "cell_type": "code",
   "execution_count": 14,
   "metadata": {},
   "outputs": [
    {
     "name": "stdout",
     "output_type": "stream",
     "text": [
      "整数 n 为:\n",
      "5\n",
      "向后移 m 个位置为:\n",
      "2\n",
      "请输入第 1 个数：1\n",
      "请输入第 2 个数：2\n",
      "请输入第 3 个数：3\n",
      "请输入第 4 个数：4\n",
      "请输入第 5 个数：5\n",
      "原始列表: [1, 2, 3, 4, 5]\n",
      "移动之后: [4, 5, 1, 2, 3]\n"
     ]
    }
   ],
   "source": [
    "# 方法三\n",
    "from collections import deque\n",
    "\n",
    "n = int(input('整数 n 为:\\n'))\n",
    "m = int(input('向后移 m 个位置为:\\n'))\n",
    "\n",
    "a = []\n",
    "for i in range(n):\n",
    "    a.append(int(input(\"请输入第 %d 个数：\" %(i+1))))\n",
    "print('原始列表:',a)\n",
    "\n",
    "f = deque(a)\n",
    "f.rotate(m)\n",
    "print('移动之后:',list(f))"
   ]
  },
  {
   "cell_type": "markdown",
   "metadata": {},
   "source": [
    "### Python练习实例69\n",
    "#### 题目：\n",
    "    有n个人围成一圈，顺序排号。从第一个人开始报数（从1到3报数），凡报到3的人退出圈子，问最后留下的是原来第几号的那位。\n",
    "#### 程序分析：\n",
    "    无"
   ]
  },
  {
   "cell_type": "code",
   "execution_count": 15,
   "metadata": {},
   "outputs": [
    {
     "name": "stdout",
     "output_type": "stream",
     "text": [
      "请输入总人数:34\n",
      "最后留下的是原来第10号的那位\n"
     ]
    }
   ],
   "source": [
    "# 方法一\n",
    "n = int(input('请输入总人数:'))\n",
    "num = []\n",
    "for i in range(n):\n",
    "    num.append(i + 1)\n",
    "\n",
    "i = 0\n",
    "k = 0\n",
    "m = 0\n",
    "\n",
    "while m < n - 1:\n",
    "    if num[i] != 0: \n",
    "        k += 1\n",
    "    if k == 3:\n",
    "        num[i] = 0\n",
    "        k = 0\n",
    "        m += 1\n",
    "    i += 1\n",
    "    if i == n:\n",
    "        i = 0\n",
    "\n",
    "i = 0\n",
    "while num[i] == 0: i += 1\n",
    "print(\"最后留下的是原来第%d号的那位\" % num[i])"
   ]
  },
  {
   "cell_type": "code",
   "execution_count": 16,
   "metadata": {},
   "outputs": [
    {
     "name": "stdout",
     "output_type": "stream",
     "text": [
      "输入人数:34\n",
      "最后留下的是原来第10号的那位\n"
     ]
    }
   ],
   "source": [
    "# 方法二\n",
    "n=int(input(\"输入人数:\"))\n",
    "data = [i+1 for i in range(n)]\n",
    "i = 1 \n",
    "while len(data) > 1:\n",
    "    if i % 3 == 0:\n",
    "        data.pop(0)\n",
    "    else:\n",
    "        data.insert(len(data),data.pop(0))\n",
    "    i += 1\n",
    "print(\"最后留下的是原来第%d号的那位\" % data[0])"
   ]
  },
  {
   "cell_type": "markdown",
   "metadata": {},
   "source": [
    "### Python练习实例70\n",
    "#### 题目：\n",
    "    写一个函数，求一个字符串的长度。\n",
    "#### 程序分析：\n",
    "    无"
   ]
  },
  {
   "cell_type": "code",
   "execution_count": 17,
   "metadata": {},
   "outputs": [
    {
     "name": "stdout",
     "output_type": "stream",
     "text": [
      "please input a string:\n",
      "gdksagfdklasg\n",
      "the string has 13 characters.\n"
     ]
    }
   ],
   "source": [
    "s = input('please input a string:\\n')\n",
    "print('the string has %d characters.' % len(s))"
   ]
  }
 ],
 "metadata": {
  "kernelspec": {
   "display_name": "Python 3",
   "language": "python",
   "name": "python3"
  },
  "language_info": {
   "codemirror_mode": {
    "name": "ipython",
    "version": 3
   },
   "file_extension": ".py",
   "mimetype": "text/x-python",
   "name": "python",
   "nbconvert_exporter": "python",
   "pygments_lexer": "ipython3",
   "version": "3.6.5"
  }
 },
 "nbformat": 4,
 "nbformat_minor": 2
}
