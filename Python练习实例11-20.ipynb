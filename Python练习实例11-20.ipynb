{
 "cells": [
  {
   "cell_type": "markdown",
   "metadata": {},
   "source": [
    "### Python练习实例11\n",
    "#### 题目：\n",
    "    古典问题：有一对兔子，从出生后第三个月起每个月都生一对兔子，小兔子长到第三个月后每个月又生一对兔子，加入兔子都不死，问每个月的兔子总数为多少？\n",
    "#### 程序分析：\n",
    "    兔子的规律为数列1, 1, 2，3, 5, 8, 13，21...."
   ]
  },
  {
   "cell_type": "code",
   "execution_count": 1,
   "metadata": {
    "scrolled": false
   },
   "outputs": [
    {
     "name": "stdout",
     "output_type": "stream",
     "text": [
      "           1            2\n",
      "           3            5\n",
      "\n",
      "           8           13\n",
      "          21           34\n",
      "\n",
      "          55           89\n",
      "         144          233\n",
      "\n",
      "         377          610\n",
      "         987         1597\n",
      "\n",
      "        2584         4181\n",
      "        6765        10946\n",
      "\n",
      "       17711        28657\n",
      "       46368        75025\n",
      "\n",
      "      121393       196418\n",
      "      317811       514229\n",
      "\n",
      "      832040      1346269\n",
      "     2178309      3524578\n",
      "\n",
      "     5702887      9227465\n",
      "    14930352     24157817\n",
      "\n",
      "    39088169     63245986\n",
      "   102334155    165580141\n",
      "\n"
     ]
    }
   ],
   "source": [
    "f1 = 1\n",
    "f2 = 2\n",
    "for i in range(1,21):\n",
    "    print('%12d %12d' % (f1, f2))\n",
    "    if (i % 2) == 0:\n",
    "        print()\n",
    "    f1 = f1 + f2\n",
    "    f2 = f1 + f2"
   ]
  },
  {
   "cell_type": "markdown",
   "metadata": {},
   "source": [
    "### Python练习实例12\n",
    "#### 题目：\n",
    "    判断101-200之间有多少素数，并输出所有素数。\n",
    "#### 程序分析：\n",
    "    判断素数的方法：用一个数分别去除2到sqrt（这个数），如果能被整除，则表明此数不是素数，反之是素数。"
   ]
  },
  {
   "cell_type": "code",
   "execution_count": 2,
   "metadata": {},
   "outputs": [
    {
     "name": "stdout",
     "output_type": "stream",
     "text": [
      "101 \n",
      "103 \n",
      "107 \n",
      "109 \n",
      "113 \n",
      "127 \n",
      "131 \n",
      "137 \n",
      "139 \n",
      "149 \n",
      "\n",
      "151 \n",
      "157 \n",
      "163 \n",
      "167 \n",
      "173 \n",
      "179 \n",
      "181 \n",
      "191 \n",
      "193 \n",
      "197 \n",
      "\n",
      "199 \n",
      "The total is 21\n"
     ]
    }
   ],
   "source": [
    "from math import sqrt\n",
    "\n",
    "h = 0\n",
    "leap = 1\n",
    "\n",
    "for m in range(101, 200):\n",
    "    k = int(sqrt(m+1))\n",
    "    for i in range(2, k + 1):\n",
    "        if m % i == 0:\n",
    "            leap = 0\n",
    "            break\n",
    "    if leap == 1:\n",
    "        print('%-4d' % m)\n",
    "        h += 1\n",
    "        if h % 10 == 0:\n",
    "            print()\n",
    "    leap = 1\n",
    "print(\"The total is %d\" % h)"
   ]
  },
  {
   "cell_type": "markdown",
   "metadata": {},
   "source": [
    "### Python练习实例13\n",
    "#### 题目：\n",
    "    打印出所有的“水仙花数”，所谓“水仙花数”是指一个三位数，其个位数字立方和等于该数本身。例如：153是一个“水仙花数”，因为153 = 1的三次方 + 5的三次方 + 3的三次方。\n",
    "#### 程序分析：\n",
    "    利用for循环控制100-999个数，每个数分解出个位，十位，百位。"
   ]
  },
  {
   "cell_type": "code",
   "execution_count": 3,
   "metadata": {},
   "outputs": [
    {
     "name": "stdout",
     "output_type": "stream",
     "text": [
      "153\n",
      "370\n",
      "371\n",
      "407\n"
     ]
    }
   ],
   "source": [
    "for n in range(100,1000):\n",
    "    i = n // 100\n",
    "    j = n // 10 % 10\n",
    "    k = n % 10\n",
    "    if n == i ** 3 + j ** 3 + k ** 3:\n",
    "        print(n)"
   ]
  },
  {
   "cell_type": "markdown",
   "metadata": {},
   "source": [
    "### Python练习实例14\n",
    "#### 题目：\n",
    "    将一个正整数分解质因数。例如：输入90，打印出90=2*3*3*5.\n",
    "#### 程序分析：\n",
    "    对n进行分解质因数应先找到一个最小的质数k，然后按下述步骤完成：\n",
    "    （1）如果k恰等于n，则说明分解质因数的过程已经结束，打印出即可。\n",
    "    （2）如果n不等于k，但n能被k整除，则应打印出k的值，并用n除以k的商，作为新的正整数n，重复执行第一步。\n",
    "    （3）如果n不能被k整除，则用k+1作为k的值，重复执行第一步。"
   ]
  },
  {
   "cell_type": "code",
   "execution_count": 4,
   "metadata": {},
   "outputs": [
    {
     "name": "stdout",
     "output_type": "stream",
     "text": [
      "input number:100\n",
      "n = 100\n",
      "2*2*5*5\n"
     ]
    }
   ],
   "source": [
    "from sys import stdout\n",
    "\n",
    "n = int(input('input number:'))\n",
    "print(\"n = %d\" % n)\n",
    "\n",
    "for i in range(2, n + 1):\n",
    "    while n != i:\n",
    "        if n % i == 0:\n",
    "            stdout.write(str(i))\n",
    "            stdout.write(\"*\")\n",
    "            n = n / i\n",
    "        else:\n",
    "            break\n",
    "print(\"%d\" % n)"
   ]
  },
  {
   "cell_type": "markdown",
   "metadata": {},
   "source": [
    "### Python练习实例15\n",
    "#### 题目：\n",
    "    利用条件运算符的嵌套来完成此题：学习成绩 >= 90分的同学用A表示，60到89分之间的用B表示，60分以下的用C表示。\n",
    "#### 程序分析：\n",
    "    简单的嵌套"
   ]
  },
  {
   "cell_type": "code",
   "execution_count": 5,
   "metadata": {},
   "outputs": [
    {
     "name": "stdout",
     "output_type": "stream",
     "text": [
      "input score:88\n",
      "88 belonges to B\n"
     ]
    }
   ],
   "source": [
    "score = int(input('input score:'))\n",
    "if score >= 90:\n",
    "    grade = 'A'\n",
    "elif score >= 60:\n",
    "    grade = 'B'\n",
    "else:\n",
    "    grade = 'C'\n",
    "\n",
    "print('%d belonges to %s' % (score, grade))"
   ]
  },
  {
   "cell_type": "markdown",
   "metadata": {},
   "source": [
    "### Python练习实例16\n",
    "#### 题目：\n",
    "    输出指定格式的日期\n",
    "#### 程序分析：\n",
    "    使用datetime模块。"
   ]
  },
  {
   "cell_type": "code",
   "execution_count": 6,
   "metadata": {},
   "outputs": [
    {
     "name": "stdout",
     "output_type": "stream",
     "text": [
      "18/01/2019\n",
      "05/01/1941\n",
      "06/01/1941\n",
      "05/01/1942\n"
     ]
    }
   ],
   "source": [
    "import datetime\n",
    "\n",
    "if __name__ == \"__main__\":\n",
    "    # 输出今日日期，格式为 dd/mm/yyyy。更多选项可以查看 strftime() 方法\n",
    "    print(datetime.date.today().strftime('%d/%m/%Y'))\n",
    " \n",
    "    # 创建日期对象\n",
    "    BirthDate = datetime.date(1941, 1, 5)\n",
    " \n",
    "    print(BirthDate.strftime('%d/%m/%Y'))\n",
    " \n",
    "    # 日期算术运算\n",
    "    BirthNextDay = BirthDate + datetime.timedelta(days=1)\n",
    " \n",
    "    print(BirthNextDay.strftime('%d/%m/%Y'))\n",
    " \n",
    "    # 日期替换\n",
    "    FirstBirthday = BirthDate.replace(year=BirthDate.year + 1)\n",
    " \n",
    "    print(FirstBirthday.strftime('%d/%m/%Y'))"
   ]
  },
  {
   "cell_type": "markdown",
   "metadata": {},
   "source": [
    "### Python练习实例17\n",
    "#### 题目：\n",
    "    输入一行字符，分别统计出其中英文字母、空格、数字、和其他字符的个数。\n",
    "#### 程序分析：\n",
    "    利用while语句，条件为输入的字符不为‘\\n’."
   ]
  },
  {
   "cell_type": "code",
   "execution_count": 7,
   "metadata": {},
   "outputs": [
    {
     "name": "stdout",
     "output_type": "stream",
     "text": [
      "input a string:haf14643khkdashgk  nakhf134343dk  nah146fka ahk hahklf a\n",
      "char = 35, space = 7, digit = 14, others = 0\n"
     ]
    }
   ],
   "source": [
    "import string\n",
    "s = input('input a string:')\n",
    "letters = 0\n",
    "space = 0\n",
    "digit = 0\n",
    "others = 0\n",
    "for c in s:\n",
    "    if c.isalpha():\n",
    "        letters += 1\n",
    "    elif c.isspace():\n",
    "        space += 1\n",
    "    elif c.isdigit():\n",
    "        digit += 1\n",
    "    else:\n",
    "        others += 1\n",
    "print('char = %d, space = %d, digit = %d, others = %d' % (letters, space, digit, others))"
   ]
  },
  {
   "cell_type": "markdown",
   "metadata": {},
   "source": [
    "### Python练习实例18\n",
    "#### 题目：\n",
    "    求s = a + aa + aaa + aaaa + aa....a的值，其中a是一个数字。例如2 + 22 + 222 + 2222 + 22222（此时共有5个数相加），几个数相加由键盘控制。\n",
    "#### 程序分析：\n",
    "    计算出每一项的值。"
   ]
  },
  {
   "cell_type": "code",
   "execution_count": 8,
   "metadata": {},
   "outputs": [
    {
     "name": "stdout",
     "output_type": "stream",
     "text": [
      "n = 5\n",
      "a = 8\n",
      "8\n",
      "88\n",
      "888\n",
      "8888\n",
      "88888\n",
      "98760\n"
     ]
    }
   ],
   "source": [
    "from functools import reduce\n",
    "\n",
    "Tn= 0\n",
    "Sn = []\n",
    "n = int(input('n = '))\n",
    "a = int(input('a = '))\n",
    "for count in range(n):\n",
    "    Tn = Tn + a\n",
    "    a = a * 10\n",
    "    Sn.append(Tn)\n",
    "    print(Tn)\n",
    "Sn = reduce(lambda x,y : x + y,Sn)\n",
    "print(Sn)"
   ]
  },
  {
   "cell_type": "markdown",
   "metadata": {},
   "source": [
    "### Python练习实例19\n",
    "#### 题目：\n",
    "    一个数如果恰好等于他的因子之和，这个数就是“完数”。例如6 = 1 + 2 + 3.找出1000以内所有的完数。\n",
    "#### 程序分析：\n",
    "    参考实例14"
   ]
  },
  {
   "cell_type": "code",
   "execution_count": 9,
   "metadata": {},
   "outputs": [
    {
     "name": "stdout",
     "output_type": "stream",
     "text": [
      "6\n",
      "1 2 3\n",
      "28\n",
      "1 2 4 7 14\n",
      "496\n",
      "1 2 4 8 16 31 62 124 248\n"
     ]
    }
   ],
   "source": [
    "from sys import stdout\n",
    "\n",
    "for j in range(2, 1001):\n",
    "    k = []\n",
    "    n = -1\n",
    "    s = j\n",
    "    for i in range(1, j):\n",
    "        if j % i == 0:\n",
    "            n += 1\n",
    "            s -= i\n",
    "            k.append(i)\n",
    "    if s == 0:\n",
    "        print(j)\n",
    "        for i in range(n):\n",
    "            stdout.write(str(k[i]))\n",
    "            stdout.write(' ')\n",
    "        print(k[n])"
   ]
  },
  {
   "cell_type": "markdown",
   "metadata": {},
   "source": [
    "### Python练习实例20\n",
    "#### 题目：\n",
    "    一个球从100米高度自由落下，每次落地后反弹回原高度的一半；再落下，求它在第10次落地时，共经过多少米？第10次反弹多高？\n",
    "#### 程序分析：\n",
    "    无"
   ]
  },
  {
   "cell_type": "code",
   "execution_count": 10,
   "metadata": {},
   "outputs": [
    {
     "name": "stdout",
     "output_type": "stream",
     "text": [
      "Total of road is 299.609375\n",
      "The tenth is 0.097656 meter\n"
     ]
    }
   ],
   "source": [
    "Sn = 100.0\n",
    "Hn = Sn / 2\n",
    "\n",
    "for n in range(2, 11):\n",
    "    Sn += 2 * Hn\n",
    "    Hn /= 2\n",
    "print(\"Total of road is %f\" % Sn)\n",
    "print(\"The tenth is %f meter\" % Hn )"
   ]
  }
 ],
 "metadata": {
  "kernelspec": {
   "display_name": "Python 3",
   "language": "python",
   "name": "python3"
  },
  "language_info": {
   "codemirror_mode": {
    "name": "ipython",
    "version": 3
   },
   "file_extension": ".py",
   "mimetype": "text/x-python",
   "name": "python",
   "nbconvert_exporter": "python",
   "pygments_lexer": "ipython3",
   "version": "3.6.5"
  }
 },
 "nbformat": 4,
 "nbformat_minor": 2
}
