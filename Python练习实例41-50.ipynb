{
 "cells": [
  {
   "cell_type": "markdown",
   "metadata": {},
   "source": [
    "### Python练习实例41\n",
    "#### 题目：\n",
    "    模仿静态变量的用法。\n",
    "#### 程序分析：\n",
    "    无。"
   ]
  },
  {
   "cell_type": "code",
   "execution_count": 1,
   "metadata": {},
   "outputs": [
    {
     "name": "stdout",
     "output_type": "stream",
     "text": [
      "var = 0\n",
      "var = 0\n",
      "var = 0\n",
      "5\n",
      "6\n",
      "7\n",
      "8\n"
     ]
    }
   ],
   "source": [
    "def varfunc():\n",
    "    var = 0\n",
    "    print(\"var = %d\" % var)\n",
    "    var += 1\n",
    "\n",
    "for i in range(3):\n",
    "    varfunc()\n",
    "        \n",
    "# 类的属性\n",
    "# 作为类的一个属性\n",
    "class Static:\n",
    "    StaticVar = 5\n",
    "    def varfunc(self):\n",
    "        self.StaticVar += 1\n",
    "        print(self.StaticVar)\n",
    "        \n",
    "print(Static.StaticVar)\n",
    "a = Static()\n",
    "for i in range(3):\n",
    "    a.varfunc()"
   ]
  },
  {
   "cell_type": "markdown",
   "metadata": {},
   "source": [
    "### Python练习实例42\n",
    "#### 题目：\n",
    "    学习使用auto定义变量的方法。\n",
    "#### 程序分析：\n",
    "    没有auto关键字，使用变量作用域举例。"
   ]
  },
  {
   "cell_type": "code",
   "execution_count": 2,
   "metadata": {},
   "outputs": [
    {
     "name": "stdout",
     "output_type": "stream",
     "text": [
      "The num = 2\n",
      "internal block num = 1\n",
      "The num = 3\n",
      "internal block num = 1\n",
      "The num = 4\n",
      "internal block num = 1\n"
     ]
    }
   ],
   "source": [
    "num = 2\n",
    "def autofunc():\n",
    "    num = 1\n",
    "    print(\"internal block num = %d\" % num)\n",
    "    \n",
    "    num += 1\n",
    "for i in range(3):\n",
    "    print(\"The num = %d\" % num)\n",
    "    num += 1 \n",
    "    autofunc()"
   ]
  },
  {
   "cell_type": "markdown",
   "metadata": {},
   "source": [
    "### Python练习实例43\n",
    "#### 题目：\n",
    "    模仿静态函数（static）的另一案例。\n",
    "#### 程序分析：\n",
    "    演示一个python作用域的使用方法。"
   ]
  },
  {
   "cell_type": "code",
   "execution_count": 3,
   "metadata": {},
   "outputs": [
    {
     "name": "stdout",
     "output_type": "stream",
     "text": [
      "The num = 3\n",
      "nNum = 3\n",
      "The num = 4\n",
      "nNum = 4\n",
      "The num = 5\n",
      "nNum = 5\n"
     ]
    }
   ],
   "source": [
    "class Num:\n",
    "    nNum = 1\n",
    "    def inc(self):\n",
    "        self.nNum += 1\n",
    "        print(\"nNum = %d\" % nNum)\n",
    "\n",
    "\n",
    "nNum = 2\n",
    "inst = Num()\n",
    "for i in range(3):\n",
    "    nNum += 1\n",
    "    print(\"The num = %d\" % nNum)\n",
    "    inst.inc()"
   ]
  },
  {
   "cell_type": "markdown",
   "metadata": {},
   "source": [
    "### Python练习实例44\n",
    "#### 题目：\n",
    "    两个 3 行 3 列的矩阵，实现其对应位置的数据相加，并返回一个新矩阵.\n",
    "    X = [[12,7,3],\n",
    "        [4 ,5,6],\n",
    "        [7 ,8,9]]\n",
    "\n",
    "    Y = [[5,8,1],\n",
    "        [6,7,3],\n",
    "        [4,5,9]]\n",
    "#### 程序分析：\n",
    "    创建一个新的 3 行 3 列的矩阵，使用 for 迭代并取出 X 和 Y 矩阵中对应位置的值，相加后放到新矩阵的对应位置中。"
   ]
  },
  {
   "cell_type": "code",
   "execution_count": 4,
   "metadata": {},
   "outputs": [
    {
     "name": "stdout",
     "output_type": "stream",
     "text": [
      "[17, 15, 4]\n",
      "[10, 12, 9]\n",
      "[11, 13, 18]\n"
     ]
    }
   ],
   "source": [
    "# 方法一\n",
    "X = [[12,7,3],\n",
    "    [4 ,5,6],\n",
    "    [7 ,8,9]]\n",
    " \n",
    "Y = [[5,8,1],\n",
    "    [6,7,3],\n",
    "    [4,5,9]]\n",
    " \n",
    "result = [[0,0,0],\n",
    "         [0,0,0],\n",
    "         [0,0,0]]\n",
    " \n",
    "# 迭代输出行\n",
    "for i in range(len(X)):\n",
    "   # 迭代输出列\n",
    "   for j in range(len(X[0])):\n",
    "       result[i][j] = X[i][j] + Y[i][j]\n",
    " \n",
    "for r in result:\n",
    "   print(r)"
   ]
  },
  {
   "cell_type": "code",
   "execution_count": 5,
   "metadata": {},
   "outputs": [
    {
     "name": "stdout",
     "output_type": "stream",
     "text": [
      "[[ 88  78  72]\n",
      " [178 151  73]\n",
      " [ 68 178  31]]\n"
     ]
    }
   ],
   "source": [
    "# 方法二\n",
    "import numpy as np\n",
    "a=np.random.randint(0,100,9).reshape(3,3)\n",
    "b=np.random.randint(0,100,9).reshape(3,3)\n",
    "\n",
    "print(a+b)"
   ]
  },
  {
   "cell_type": "markdown",
   "metadata": {},
   "source": [
    "### Python练习实例45\n",
    "#### 题目：\n",
    "    计算1到100之和。\n",
    "#### 程序分析：\n",
    "    无。"
   ]
  },
  {
   "cell_type": "code",
   "execution_count": 6,
   "metadata": {},
   "outputs": [
    {
     "name": "stdout",
     "output_type": "stream",
     "text": [
      "The sum is 5050\n"
     ]
    }
   ],
   "source": [
    "# 方法一\n",
    "tmp = 0\n",
    "for i in range(1, 101):\n",
    "    tmp +=i\n",
    "print(\"The sum is %d\" % tmp)"
   ]
  },
  {
   "cell_type": "code",
   "execution_count": 7,
   "metadata": {},
   "outputs": [
    {
     "name": "stdout",
     "output_type": "stream",
     "text": [
      "5050\n"
     ]
    }
   ],
   "source": [
    "# 方法二\n",
    "print(sum(range(1, 101)))"
   ]
  },
  {
   "cell_type": "code",
   "execution_count": 8,
   "metadata": {},
   "outputs": [
    {
     "data": {
      "text/plain": [
       "5050"
      ]
     },
     "execution_count": 8,
     "metadata": {},
     "output_type": "execute_result"
    }
   ],
   "source": [
    "# 方法三\n",
    "from functools import reduce\n",
    "reduce(lambda x, y: x + y, range(1, 101))"
   ]
  },
  {
   "cell_type": "markdown",
   "metadata": {},
   "source": [
    "### Python练习实例46\n",
    "#### 题目：\n",
    "    求输入数字的平方，如果平方运算后小于50则退出。\n",
    "#### 程序分析：\n",
    "    无。"
   ]
  },
  {
   "cell_type": "code",
   "execution_count": 9,
   "metadata": {},
   "outputs": [
    {
     "name": "stdout",
     "output_type": "stream",
     "text": [
      "请输入一个数字:88\n",
      "运算结果为: 7744\n",
      "请继续输入\n",
      "请输入一个数字:20\n",
      "运算结果为: 400\n",
      "请继续输入\n",
      "请输入一个数字:5\n",
      "运算结果为: 25\n"
     ]
    }
   ],
   "source": [
    "while 1:\n",
    "    n=int(input(\"请输入一个数字:\"))\n",
    "    print(\"运算结果为: %d\" % (n**2))\n",
    "    if n**2 < 50:\n",
    "        break\n",
    "    else:\n",
    "        print(\"请继续输入\")"
   ]
  },
  {
   "cell_type": "markdown",
   "metadata": {},
   "source": [
    "### Python练习实例47\n",
    "#### 题目：\n",
    "    两个变量值互换。\n",
    "#### 程序分析：\n",
    "    无。"
   ]
  },
  {
   "cell_type": "code",
   "execution_count": 10,
   "metadata": {},
   "outputs": [
    {
     "name": "stdout",
     "output_type": "stream",
     "text": [
      "x = 10, y = 20\n",
      "x = 20, y = 10\n"
     ]
    }
   ],
   "source": [
    "def exchange(a, b):\n",
    "    a, b = b, a\n",
    "    return a, b\n",
    "\n",
    "if __name__ == \"__main__\":\n",
    "    x = 10\n",
    "    y = 20\n",
    "    print(\"x = %d, y = %d\" % (x, y))\n",
    "    x, y = exchange(x, y)\n",
    "    print(\"x = %d, y = %d\" % (x, y))"
   ]
  },
  {
   "cell_type": "markdown",
   "metadata": {},
   "source": [
    "### Python练习实例48\n",
    "#### 题目：\n",
    "    数字比较\n",
    "#### 程序分析：\n",
    "    无。"
   ]
  },
  {
   "cell_type": "code",
   "execution_count": 11,
   "metadata": {},
   "outputs": [
    {
     "name": "stdout",
     "output_type": "stream",
     "text": [
      "10 小于 20\n"
     ]
    }
   ],
   "source": [
    "# 方法一 \n",
    "i = 10\n",
    "j = 20\n",
    "if i > j:\n",
    "    print(\"%d 大于 %d\" % (i, j))\n",
    "elif i < j:\n",
    "    print(\"%d 小于 %d\" % (i, j))\n",
    "elif i == j:\n",
    "    print(\"%d 等于 %d\" % (i, j))\n",
    "else:\n",
    "    print(\"未知！！！\")"
   ]
  },
  {
   "cell_type": "code",
   "execution_count": 12,
   "metadata": {},
   "outputs": [
    {
     "name": "stdout",
     "output_type": "stream",
     "text": [
      "请输入第一个数字:8\n",
      "请输入第二个数字:11\n",
      "8大于11\n"
     ]
    }
   ],
   "source": [
    "# 方法二 \n",
    "def compare(num1, num2):\n",
    "    if num1 > num2:\n",
    "        print(\"%s大于%s\" % (num1, num2))\n",
    "    elif num2 > num1:\n",
    "        print(\"%s大于%s\" % (num2, num1))\n",
    "    else:\n",
    "        print(\"%s等于%s\" % (num1, num2))\n",
    "\n",
    "a = input(\"请输入第一个数字:\")\n",
    "b = input(\"请输入第二个数字:\")\n",
    "compare(a, b)"
   ]
  },
  {
   "cell_type": "code",
   "execution_count": 13,
   "metadata": {},
   "outputs": [
    {
     "name": "stdout",
     "output_type": "stream",
     "text": [
      "请输入第一个数字:2\n",
      "请输入第二个数字:1\n",
      "2大于1\n"
     ]
    }
   ],
   "source": [
    "# 方法三\n",
    "def compare(a,b):\n",
    "    maxSum = max(a,b)\n",
    "    minSum = min(a,b)\n",
    "    print('%s大于%s'%(maxSum,minSum))\n",
    "    \n",
    "a = input(\"请输入第一个数字:\")\n",
    "b = input(\"请输入第二个数字:\")\n",
    "compare(a,b)"
   ]
  },
  {
   "cell_type": "markdown",
   "metadata": {},
   "source": [
    "### Python练习实例49\n",
    "#### 题目：\n",
    "    使用lambda创建匿名函数。\n",
    "#### 程序分析：\n",
    "    无。"
   ]
  },
  {
   "cell_type": "code",
   "execution_count": 14,
   "metadata": {},
   "outputs": [
    {
     "name": "stdout",
     "output_type": "stream",
     "text": [
      "The larger one is 20\n",
      "The lower one is 10\n"
     ]
    }
   ],
   "source": [
    "# 案例一\n",
    "MAXIMUM = lambda x,y :  (x > y) * x + (x < y) * y\n",
    "MINIMUM = lambda x,y :  (x > y) * y + (x < y) * x\n",
    " \n",
    "a = 10\n",
    "b = 20\n",
    "print( 'The larger one is %d' % MAXIMUM(a,b))\n",
    "print( 'The lower one is %d' % MINIMUM(a,b))"
   ]
  },
  {
   "cell_type": "code",
   "execution_count": 15,
   "metadata": {},
   "outputs": [
    {
     "name": "stdout",
     "output_type": "stream",
     "text": [
      "请输入两个数字，并以逗号分隔：\n",
      "5,13\n",
      "18\n"
     ]
    }
   ],
   "source": [
    "# 实例二\n",
    "func=lambda x,y: x + y\n",
    "x,y=eval(input('请输入两个数字，并以逗号分隔：\\n'))\n",
    "print(func(x,y))"
   ]
  },
  {
   "cell_type": "markdown",
   "metadata": {},
   "source": [
    "### Python练习实例50\n",
    "#### 题目：\n",
    "    输出一个随机数。\n",
    "#### 程序分析：\n",
    "    使用random模块。"
   ]
  },
  {
   "cell_type": "code",
   "execution_count": 16,
   "metadata": {},
   "outputs": [
    {
     "name": "stdout",
     "output_type": "stream",
     "text": [
      "请输入两个数字，并以逗号分隔：\n",
      "5,55\n",
      "0.09548784606364191\n",
      "28.99401115130768\n",
      "5\n",
      "9\n"
     ]
    }
   ],
   "source": [
    "import random\n",
    "\n",
    "\n",
    "x,y=eval(input('请输入两个数字，并以逗号分隔：\\n'))\n",
    "\n",
    "print(random.random())          # 输入0-1之间的随机数\n",
    "print(random.uniform(x, y))     # 生成指定范围的随机小数\n",
    "print(random.randint(x, y))     # 输出10-20之间的随机整数\n",
    "print(random.choice([x for x in range(0, 100)]))  # 在列表中随机抽取一个数"
   ]
  }
 ],
 "metadata": {
  "kernelspec": {
   "display_name": "Python 3",
   "language": "python",
   "name": "python3"
  },
  "language_info": {
   "codemirror_mode": {
    "name": "ipython",
    "version": 3
   },
   "file_extension": ".py",
   "mimetype": "text/x-python",
   "name": "python",
   "nbconvert_exporter": "python",
   "pygments_lexer": "ipython3",
   "version": "3.6.5"
  }
 },
 "nbformat": 4,
 "nbformat_minor": 2
}
